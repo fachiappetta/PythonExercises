{
 "cells": [
  {
   "cell_type": "markdown",
   "metadata": {},
   "source": [
    "### Python Exercises\n",
    "The exercises below are organized to match [A Whirlwind Tour of Python (VanderPlas)](http://www.oreilly.com/programming/free/files/a-whirlwind-tour-of-python.pdf). Specific pages are referenced in the various sections. These are designed to run using Python 3.x.\n",
    "\n",
    "Follow the guidelines below. Where necessary replace the ellipses (`...`) with the appropriate code in the code blocks, the run the code by pressing ctrl-enter. **Be sure to save your document before closing.** "
   ]
  },
  {
   "cell_type": "markdown",
   "metadata": {},
   "source": [
    "### 1. A Quick Tour of Python Language Syntax  ([pp 7 - 13](http://nbviewer.jupyter.org/github/env859/WhirlwindTourOfPython/blob/master/02-Basic-Python-Syntax.ipynb))\n",
    "* Comments\n",
    "* End of line (or semicolon) terminates a statement\n",
    "* Whitespace in front of a statement (indentation) vs. within a statement\n",
    "* Parentheses in Python"
   ]
  },
  {
   "cell_type": "markdown",
   "metadata": {},
   "source": [
    "**1a.** Modify the code below so the first line is not run. Also change it so that the text \"height in cm\" is ignored by Python (i.e. \"commented out\") [hint](https://nbviewer.jupyter.org/github/env859/WhirlwindTourOfPython/blob/master/02-Basic-Python-Syntax.ipynb#Comments-Are-Marked-by-#)"
   ]
  },
  {
   "cell_type": "code",
   "execution_count": 3,
   "metadata": {},
   "outputs": [],
   "source": [
    "#This line assigns the age and height of the student\n",
    "studentAge = 25\n",
    "studentHeight = 180 #height in cm\n"
   ]
  },
  {
   "cell_type": "markdown",
   "metadata": {},
   "source": [
    "**1b.** Modify the code below so that it is written on two lines, splitting the two lines somewhere between \"`4000 + 5000`\" . [hint](https://nbviewer.jupyter.org/github/env859/WhirlwindTourOfPython/blob/master/02-Basic-Python-Syntax.ipynb#End-of-Line-Terminates-a-Statement)"
   ]
  },
  {
   "cell_type": "code",
   "execution_count": 4,
   "metadata": {},
   "outputs": [],
   "source": [
    "totalScore = 1000 + 2000 + 3000 + 4000 +\\\n",
    " 5000 + 6000 + 7000 + 8000"
   ]
  },
  {
   "cell_type": "markdown",
   "metadata": {},
   "source": [
    "Modify the code below so that both commands occur on the same lin**1c.** Modify the code below so that both commands occur on the same line. [hint](https://nbviewer.jupyter.org/github/env859/WhirlwindTourOfPython/blob/master/02-Basic-Python-Syntax.ipynb#End-of-Line-Terminates-a-Statement)"
   ]
  },
  {
   "cell_type": "code",
   "execution_count": 9,
   "metadata": {},
   "outputs": [],
   "source": [
    "stateName, stateCapital = \"North Carolina\", \"Raleigh\" \n"
   ]
  },
  {
   "cell_type": "markdown",
   "metadata": {},
   "source": [
    "**1d.** Make the fewest edits possible so the code below so it runs without error.[hint](https://nbviewer.jupyter.org/github/env859/WhirlwindTourOfPython/blob/master/02-Basic-Python-Syntax.ipynb#Indentation:-Whitespace-Matters!)"
   ]
  },
  {
   "cell_type": "code",
   "execution_count": 5,
   "metadata": {},
   "outputs": [
    {
     "name": "stdout",
     "output_type": "stream",
     "text": [
      "2\n",
      "4\n",
      "6\n",
      "8\n",
      "10\n"
     ]
    }
   ],
   "source": [
    "for i in [1,2,3,4,      5]: #this space doesnt matter\n",
    "    print (i * 2) #but thi indent does"
   ]
  },
  {
   "cell_type": "markdown",
   "metadata": {},
   "source": [
    "**1e.** Add parentheses so that the code below prints `14` (not `11`)."
   ]
  },
  {
   "cell_type": "code",
   "execution_count": 6,
   "metadata": {},
   "outputs": [
    {
     "name": "stdout",
     "output_type": "stream",
     "text": [
      "14\n"
     ]
    }
   ],
   "source": [
    "treeCarbon = (3 + 4) * 2\n",
    "print (treeCarbon)"
   ]
  },
  {
   "cell_type": "markdown",
   "metadata": {},
   "source": [
    "---\n",
    "\n",
    "### 2. Basic Python Sematics: Variables & Objects ([pp 13 - 14](http://nbviewer.jupyter.org/github/env859/WhirlwindTourOfPython/blob/master/03-Semantics-Variables.ipynb))\n",
    "* Python variables are pointers\n",
    " * Immutable vs mutable objects \n",
    "* Everything is an object"
   ]
  },
  {
   "cell_type": "markdown",
   "metadata": {},
   "source": [
    "**2a**. In the code block below:<br>\n",
    " \\* Assign the variable name `x` to the immutable number 11<br>\n",
    " \\* Assign the variable name `y` equal to `x`<br>\n",
    " \\* Re-assign `x` to the immutable string \"Duke University\"<br>\n",
    " \\* Print the value of `y`: **Did it change with `x`?** <br>"
   ]
  },
  {
   "cell_type": "code",
   "execution_count": 15,
   "metadata": {},
   "outputs": [
    {
     "name": "stdout",
     "output_type": "stream",
     "text": [
      "11\n"
     ]
    }
   ],
   "source": [
    "x = 11\n",
    "y = x\n",
    "x = {\"Duke University\"}\n",
    "print (y)\n",
    "\n",
    "#it didnt change because y is pointing to the original x variable, not the second one which is a float"
   ]
  },
  {
   "cell_type": "markdown",
   "metadata": {},
   "source": [
    "**2b.** In the code block below:<br>\n",
    " \\* Assign `x` to the mutable list [\"apple\",\"banana\",\"cherry\"]<br>\n",
    " \\* Assign `y` equal to `x`<br>\n",
    " \\* Update `x` to include \"durian\"<br>\n",
    " \\* Print the value of `y`: **Did it change with `x`?** <br>"
   ]
  },
  {
   "cell_type": "code",
   "execution_count": 16,
   "metadata": {},
   "outputs": [
    {
     "name": "stdout",
     "output_type": "stream",
     "text": [
      "['apple', 'banana', 'cherry', 'durian']\n"
     ]
    }
   ],
   "source": [
    "x = [\"apple\",\"banana\",\"cherry\"]\n",
    "y = x\n",
    "x.append(\"durian\")\n",
    "print(y)\n",
    "\n",
    "#it did change because we changed the first x variable by appending \"durian\" into it"
   ]
  },
  {
   "cell_type": "markdown",
   "metadata": {},
   "source": [
    "**2c.** In the code block below:<br>\n",
    "\\* Make the first line a comment<br>\n",
    "\\* Set the variable `monty` equal to `True`<br>\n",
    "\\* Set another variable `python` equal to `1.234`<br>\n",
    "\\* Set a third variable `monty_python` equal to `python` squared<br>\n",
    "\\* print the value of `monty_python`<br>"
   ]
  },
  {
   "cell_type": "code",
   "execution_count": 17,
   "metadata": {},
   "outputs": [
    {
     "name": "stdout",
     "output_type": "stream",
     "text": [
      "1.522756\n"
     ]
    }
   ],
   "source": [
    "#Exercise 2c\n",
    "monty = True\n",
    "python = 1.234\n",
    "monty_python = python ** 2\n",
    "print(monty_python)"
   ]
  },
  {
   "cell_type": "markdown",
   "metadata": {},
   "source": [
    "---\n",
    "### 3. Basic Python Semantics: Operators ([pp 14 - 24](http://nbviewer.jupyter.org/github/env859/WhirlwindTourOfPython/blob/master/04-Semantics-Operators.ipynb))\n",
    "* Arithmetic operations<br>\n",
    "* <s>Bitwise operations</s><br>\n",
    "* Assignment operations<br>\n",
    "* Comparison operations<br>\n",
    "* Boolean operations<br>\n",
    "* Identity & membership operations<br>"
   ]
  },
  {
   "cell_type": "markdown",
   "metadata": {},
   "source": [
    "**3a.** Write a line of code to convert degrees 31°C to Fahrenheit:\n",
    "   `T(°F) = T(°C) × 9/5 + 32`<br>*(The correct answer is 87.8)*"
   ]
  },
  {
   "cell_type": "code",
   "execution_count": 22,
   "metadata": {},
   "outputs": [
    {
     "data": {
      "text/plain": [
       "87.8"
      ]
     },
     "execution_count": 22,
     "metadata": {},
     "output_type": "execute_result"
    }
   ],
   "source": [
    "degC = 31\n",
    "degF = degC * (9/5) + 32\n",
    "round(degF,3)"
   ]
  },
  {
   "cell_type": "markdown",
   "metadata": {},
   "source": [
    "**3b.** Use _assignment operations_ ([link](https://nbviewer.jupyter.org/github/env859/WhirlwindTourOfPython/blob/master/04-Semantics-Operators.ipynb#Assignment-Operations)) to re-write lines 2 and 3 below more compactly:<br>"
   ]
  },
  {
   "cell_type": "code",
   "execution_count": 7,
   "metadata": {},
   "outputs": [
    {
     "name": "stdout",
     "output_type": "stream",
     "text": [
      "2 9\n"
     ]
    }
   ],
   "source": [
    "a = 1; b = 3\n",
    "a += 1\n",
    "b **= 2\n",
    "print (a, b)"
   ]
  },
  {
   "cell_type": "markdown",
   "metadata": {},
   "source": [
    "**3c.** After setting `a` equal to 10 and `b` equal to 17, use the proper [Comparison operators](https://nbviewer.jupyter.org/github/env859/WhirlwindTourOfPython/blob/master/04-Semantics-Operators.ipynb#Comparison-Operations) to code the statements below..."
   ]
  },
  {
   "cell_type": "code",
   "execution_count": 28,
   "metadata": {},
   "outputs": [],
   "source": [
    "a = 10\n",
    "b = 17"
   ]
  },
  {
   "cell_type": "code",
   "execution_count": 29,
   "metadata": {},
   "outputs": [
    {
     "name": "stdout",
     "output_type": "stream",
     "text": [
      "True\n"
     ]
    }
   ],
   "source": [
    "#print whether a is greater than b\n",
    "print(a < b)\n",
    "#TRUE"
   ]
  },
  {
   "cell_type": "code",
   "execution_count": 30,
   "metadata": {},
   "outputs": [
    {
     "name": "stdout",
     "output_type": "stream",
     "text": [
      "True\n"
     ]
    }
   ],
   "source": [
    "#print whether a is between 5 and 11\n",
    "print(5 < a < 11)\n",
    "#TRUE"
   ]
  },
  {
   "cell_type": "code",
   "execution_count": 31,
   "metadata": {},
   "outputs": [
    {
     "name": "stdout",
     "output_type": "stream",
     "text": [
      "True\n"
     ]
    }
   ],
   "source": [
    "#print whether b minus a is equal to 7\n",
    "print((b-a) == 7)\n",
    "#TRUE"
   ]
  },
  {
   "cell_type": "code",
   "execution_count": 33,
   "metadata": {},
   "outputs": [
    {
     "name": "stdout",
     "output_type": "stream",
     "text": [
      "False\n"
     ]
    }
   ],
   "source": [
    "#print whether b minus a is NOT equal to 7\n",
    "print((b-a) != 7)\n",
    "#FALSE, it equals 7"
   ]
  },
  {
   "cell_type": "code",
   "execution_count": 34,
   "metadata": {},
   "outputs": [
    {
     "name": "stdout",
     "output_type": "stream",
     "text": [
      "False\n"
     ]
    }
   ],
   "source": [
    "#print whether b minus a is less than or equal to 6\n",
    "print((b-a) <= 6)\n",
    "#FALSE, it is greater than 6"
   ]
  },
  {
   "cell_type": "code",
   "execution_count": 36,
   "metadata": {},
   "outputs": [
    {
     "name": "stdout",
     "output_type": "stream",
     "text": [
      "False\n"
     ]
    }
   ],
   "source": [
    "#print whether 0.1 plus 0.2 is equal to 0.3 - Note: you might not get what you expect\n",
    "print((.1+.2) == 0.3)\n",
    "#this is false because of of the way that the computer stores floats"
   ]
  },
  {
   "cell_type": "code",
   "execution_count": 37,
   "metadata": {},
   "outputs": [
    {
     "data": {
      "text/plain": [
       "0.30000000000000004"
      ]
     },
     "execution_count": 37,
     "metadata": {},
     "output_type": "execute_result"
    }
   ],
   "source": [
    "#Regarding the above, try this:\n",
    "0.1 + 0.2"
   ]
  },
  {
   "cell_type": "markdown",
   "metadata": {},
   "source": [
    "For an explanation of the last two cells, see:\n",
    "* http://nbviewer.jupyter.org/github/env859/WhirlwindTourOfPython/blob/master/05-Built-in-Scalar-Types.ipynb#Aside:-Floating-point-precision or \n",
    "* https://docs.python.org/3/tutorial/floatingpoint.html"
   ]
  },
  {
   "cell_type": "markdown",
   "metadata": {},
   "source": [
    "---\n",
    "### 4. Built-In Types: Simple Values/Scalars ([pp 24 - 29](http://nbviewer.jupyter.org/github/env859/WhirlwindTourOfPython/blob/master/05-Built-in-Scalar-Types.ipynb))\n",
    "* Integers\n",
    "* Floating-points numbers\n",
    "* <s>Complex numbers</s>\n",
    "* Strings\n",
    "* \"None\"\n",
    "* Booleans"
   ]
  },
  {
   "cell_type": "markdown",
   "metadata": {},
   "source": [
    "#### [Integers](https://nbviewer.jupyter.org/github/env859/WhirlwindTourOfPython/blob/master/05-Built-in-Scalar-Types.ipynb#Integers) and [Floating point numbers](https://nbviewer.jupyter.org/github/env859/WhirlwindTourOfPython/blob/master/05-Built-in-Scalar-Types.ipynb#Floating-Point-Numbers)"
   ]
  },
  {
   "cell_type": "markdown",
   "metadata": {},
   "source": [
    "**4a.** Set `x` equal to the *integer* value 6"
   ]
  },
  {
   "cell_type": "code",
   "execution_count": 8,
   "metadata": {},
   "outputs": [
    {
     "data": {
      "text/plain": [
       "int"
      ]
     },
     "execution_count": 8,
     "metadata": {},
     "output_type": "execute_result"
    }
   ],
   "source": [
    "x = int(6)\n",
    "type(x)"
   ]
  },
  {
   "cell_type": "markdown",
   "metadata": {},
   "source": [
    "**4b.** Set `y` equal to the *floating point* value 2"
   ]
  },
  {
   "cell_type": "code",
   "execution_count": 9,
   "metadata": {},
   "outputs": [
    {
     "data": {
      "text/plain": [
       "float"
      ]
     },
     "execution_count": 9,
     "metadata": {},
     "output_type": "execute_result"
    }
   ],
   "source": [
    "y = float(2)\n",
    "type(y)\n"
   ]
  },
  {
   "cell_type": "markdown",
   "metadata": {},
   "source": [
    "**4c.** Set `z` to be `x` divided by `y`. Is `z` an integer or floating point object?"
   ]
  },
  {
   "cell_type": "code",
   "execution_count": 11,
   "metadata": {},
   "outputs": [
    {
     "data": {
      "text/plain": [
       "3.0"
      ]
     },
     "execution_count": 11,
     "metadata": {},
     "output_type": "execute_result"
    }
   ],
   "source": [
    "z = x/y\n",
    "type(z)\n",
    "#its a float because / returns a float\n"
   ]
  },
  {
   "cell_type": "markdown",
   "metadata": {},
   "source": [
    "→ Is the above the same if `y` is an integer? What if, instead of dividing, we used the floor-division operator `(z = x // 4)`? "
   ]
  },
  {
   "cell_type": "markdown",
   "metadata": {},
   "source": [
    "---- No, this operator does integer division which truncates any decimal and always returns an integer.\n",
    "\n"
   ]
  },
  {
   "cell_type": "markdown",
   "metadata": {},
   "source": [
    "#### [Strings](https://nbviewer.jupyter.org/github/env859/WhirlwindTourOfPython/blob/master/05-Built-in-Scalar-Types.ipynb#String-Type)...\n",
    "**4d.** Create the following string variables, setting values as such:<br>\n",
    "\\*  `name` -> `Amelia`<br>\n",
    "\\*  `grade` -> `7`<br>\n",
    "\\*  `position` -> `Goal keeper`<br>\n",
    "\\*  `team` -> `Vikings`<br>"
   ]
  },
  {
   "cell_type": "code",
   "execution_count": 13,
   "metadata": {},
   "outputs": [],
   "source": [
    "name = \"Amelia\"\n",
    "grade = 7\n",
    "position = \"Goal Keeper\"\n",
    "team = \"Vikings\""
   ]
  },
  {
   "cell_type": "markdown",
   "metadata": {},
   "source": [
    "**4e.** Show the `type` of the grade variable. Then re-cast it into a string object."
   ]
  },
  {
   "cell_type": "code",
   "execution_count": 14,
   "metadata": {},
   "outputs": [
    {
     "data": {
      "text/plain": [
       "'7'"
      ]
     },
     "execution_count": 14,
     "metadata": {},
     "output_type": "execute_result"
    }
   ],
   "source": [
    "type(grade)\n",
    "grade = str(grade)\n",
    "grade"
   ]
  },
  {
   "cell_type": "markdown",
   "metadata": {},
   "source": [
    "**4f.** Combine (or \"*concatenate*\") the `name` and the `grade` variables along with other text to print out:<br> `Amelia is in grade 7`"
   ]
  },
  {
   "cell_type": "code",
   "execution_count": 15,
   "metadata": {},
   "outputs": [
    {
     "name": "stdout",
     "output_type": "stream",
     "text": [
      "Amelia is in grade 7\n"
     ]
    }
   ],
   "source": [
    "print (name + ' is in grade ' + grade)"
   ]
  }
 ],
 "metadata": {
  "kernelspec": {
   "display_name": "Python 3",
   "language": "python",
   "name": "python3"
  },
  "language_info": {
   "codemirror_mode": {
    "name": "ipython",
    "version": 3
   },
   "file_extension": ".py",
   "mimetype": "text/x-python",
   "name": "python",
   "nbconvert_exporter": "python",
   "pygments_lexer": "ipython3",
   "version": "3.8.8"
  }
 },
 "nbformat": 4,
 "nbformat_minor": 4
}
