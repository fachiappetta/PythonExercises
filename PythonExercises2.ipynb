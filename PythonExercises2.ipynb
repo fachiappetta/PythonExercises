{
 "cells": [
  {
   "cell_type": "markdown",
   "metadata": {},
   "source": [
    "# Python Exercises - Session 2: Built-in data structures\n",
    "The exercises below are organized to match [A Whirlwind Tour of Python (VanderPlas)](http://www.oreilly.com/programming/free/files/a-whirlwind-tour-of-python.pdf). Specific pages are referenced in the various sections. These are designed to run using Python 3.6.\n",
    "\n",
    "Follow the guidelines below. Where necessary replace the ellipses (`...`) with the appropriate code in the code blocks, the run the code by pressing ctrl-enter. Be sure to save your document before closing. "
   ]
  },
  {
   "cell_type": "markdown",
   "metadata": {},
   "source": [
    "### 2.1. Lists"
   ]
  },
  {
   "cell_type": "markdown",
   "metadata": {},
   "source": [
    "**2.1a.** Create a _list_ variable named `myRasters` containing the following 3 strings: `DEM`, `slope`, `aspect`, and then print the contents of the list."
   ]
  },
  {
   "cell_type": "code",
   "execution_count": 34,
   "metadata": {},
   "outputs": [
    {
     "name": "stdout",
     "output_type": "stream",
     "text": [
      "['DEM', 'slope', 'aspect']\n"
     ]
    }
   ],
   "source": [
    "myRasters = [\"DEM\", \"slope\", \"aspect\"]\n",
    "print(myRasters)"
   ]
  },
  {
   "cell_type": "markdown",
   "metadata": {},
   "source": [
    "**2.1b.** Use the `len` function on the `myRasters` list object to reveal how many items on the list."
   ]
  },
  {
   "cell_type": "code",
   "execution_count": 35,
   "metadata": {},
   "outputs": [
    {
     "data": {
      "text/plain": [
       "3"
      ]
     },
     "execution_count": 35,
     "metadata": {},
     "output_type": "execute_result"
    }
   ],
   "source": [
    "len(myRasters)"
   ]
  },
  {
   "cell_type": "markdown",
   "metadata": {},
   "source": [
    "**2.1c.** Update `myRasters` list to include a new item, the string `hillshade`, and then print the contents of the list. (*Tip: use the tab-completion feature to see all the methods associated with the `myRasters` object; just hit the tab key after the period following myRasters...*)"
   ]
  },
  {
   "cell_type": "code",
   "execution_count": 36,
   "metadata": {},
   "outputs": [
    {
     "name": "stdout",
     "output_type": "stream",
     "text": [
      "['DEM', 'slope', 'aspect', 'hillshade']\n"
     ]
    }
   ],
   "source": [
    "myRasters.append(\"hillshade\")\n",
    "print(myRasters)"
   ]
  },
  {
   "cell_type": "markdown",
   "metadata": {},
   "source": [
    "**2.1d.** Use the `sort` function to sort the myRasters list alphabetically and print the output."
   ]
  },
  {
   "cell_type": "code",
   "execution_count": 37,
   "metadata": {},
   "outputs": [
    {
     "name": "stdout",
     "output_type": "stream",
     "text": [
      "['DEM', 'aspect', 'hillshade', 'slope']\n"
     ]
    }
   ],
   "source": [
    "myRasters.sort()\n",
    "print(myRasters)\n",
    "\n",
    "#uppercase comes before lowercase letters"
   ]
  },
  {
   "cell_type": "markdown",
   "metadata": {},
   "source": [
    "**2.1e.** Sort the myRasters list in <u>reverse</u> order and print the output, again using the sort function.  \n",
    "*Tip: place a `?` after the sort command, omitting the parentheses, to display a bit of help on the sort method...*"
   ]
  },
  {
   "cell_type": "code",
   "execution_count": 38,
   "metadata": {},
   "outputs": [
    {
     "name": "stdout",
     "output_type": "stream",
     "text": [
      "['slope', 'hillshade', 'aspect', 'DEM']\n"
     ]
    }
   ],
   "source": [
    "myRasters.sort(reverse=True)\n",
    "print(myRasters)\n",
    "\n"
   ]
  },
  {
   "cell_type": "markdown",
   "metadata": {},
   "source": [
    "**2.1f.** Remove `aspect` from the `myRasters` list using the `remove` method."
   ]
  },
  {
   "cell_type": "code",
   "execution_count": 39,
   "metadata": {},
   "outputs": [
    {
     "name": "stdout",
     "output_type": "stream",
     "text": [
      "['slope', 'hillshade', 'DEM']\n"
     ]
    }
   ],
   "source": [
    "myRasters.remove(\"aspect\")\n",
    "print(myRasters)"
   ]
  },
  {
   "cell_type": "markdown",
   "metadata": {},
   "source": [
    "**2.1g.** Use the `index` function to print the index value of the `DEM` item in the `myRasters` list."
   ]
  },
  {
   "cell_type": "code",
   "execution_count": 40,
   "metadata": {},
   "outputs": [
    {
     "name": "stdout",
     "output_type": "stream",
     "text": [
      "2\n"
     ]
    }
   ],
   "source": [
    "print(myRasters.index(\"DEM\"))\n",
    "#2, which is the third place"
   ]
  },
  {
   "cell_type": "markdown",
   "metadata": {},
   "source": [
    "**2.1h.** Set the variable `theRaster` to the first item in the `myRasters` list and print the value of `theRaster`."
   ]
  },
  {
   "cell_type": "code",
   "execution_count": 41,
   "metadata": {},
   "outputs": [
    {
     "name": "stdout",
     "output_type": "stream",
     "text": [
      "slope\n"
     ]
    }
   ],
   "source": [
    "theRaster = myRasters[0]\n",
    "print(theRaster)"
   ]
  },
  {
   "cell_type": "markdown",
   "metadata": {},
   "source": [
    "**2.1i.** Print the last 2 items in the `myRasters` list"
   ]
  },
  {
   "cell_type": "code",
   "execution_count": 42,
   "metadata": {},
   "outputs": [
    {
     "name": "stdout",
     "output_type": "stream",
     "text": [
      "['hillshade', 'DEM']\n"
     ]
    }
   ],
   "source": [
    "print(myRasters[-2:])"
   ]
  },
  {
   "cell_type": "markdown",
   "metadata": {},
   "source": [
    "---\n",
    "### 2.2. Tuples"
   ]
  },
  {
   "cell_type": "markdown",
   "metadata": {},
   "source": [
    "**2.2a.** Create a tuple named `myVectors` containing the following 3 strings: `rivers`, `rails`, `streets`, and then print the contents of the tuple."
   ]
  },
  {
   "cell_type": "code",
   "execution_count": 43,
   "metadata": {},
   "outputs": [],
   "source": [
    "myVectors = (\"rivers\", \"rails\", \"streets\")"
   ]
  },
  {
   "cell_type": "markdown",
   "metadata": {},
   "source": [
    "**2.2b.** Print the 3rd element in the `myVectors` tuple (i.e. \"streets\")"
   ]
  },
  {
   "cell_type": "code",
   "execution_count": 44,
   "metadata": {},
   "outputs": [
    {
     "name": "stdout",
     "output_type": "stream",
     "text": [
      "streets\n"
     ]
    }
   ],
   "source": [
    "print(myVectors[2])"
   ]
  },
  {
   "cell_type": "markdown",
   "metadata": {},
   "source": [
    "**2.2c.** Create a second tuple named `myOtherVectors`, holding the strings `trails` and `bike paths`."
   ]
  },
  {
   "cell_type": "code",
   "execution_count": 45,
   "metadata": {},
   "outputs": [],
   "source": [
    "myOtherVectors = 'trails', \"bike path\""
   ]
  },
  {
   "cell_type": "markdown",
   "metadata": {},
   "source": [
    "**2.2d.** Update the `myVectors` tuple so that it also included the elements in the `myOtherVectors` tuple and print the results."
   ]
  },
  {
   "cell_type": "code",
   "execution_count": 46,
   "metadata": {},
   "outputs": [
    {
     "name": "stdout",
     "output_type": "stream",
     "text": [
      "('rivers', 'rails', 'streets', 'trails', 'bike path')\n"
     ]
    }
   ],
   "source": [
    "myVectors = myVectors + myOtherVectors\n",
    "print(myVectors)"
   ]
  },
  {
   "cell_type": "markdown",
   "metadata": {},
   "source": [
    "---\n",
    "### 2.3. Dictionaries"
   ]
  },
  {
   "cell_type": "markdown",
   "metadata": {},
   "source": [
    "**2.3a.** Run the following to generate a dictionary called `inventory`"
   ]
  },
  {
   "cell_type": "code",
   "execution_count": 47,
   "metadata": {},
   "outputs": [],
   "source": [
    "inventory = {\n",
    "    'gold' : 500,\n",
    "    'pouch' : ['flint', 'twine', 'gemstone'],\n",
    "    'backpack' : ['xylophone','dagger', 'bedroll','bread loaf']\n",
    "}"
   ]
  },
  {
   "cell_type": "markdown",
   "metadata": {},
   "source": [
    "**2.3b.** Write a line of code to print the value corresponding to the `pouch` key. "
   ]
  },
  {
   "cell_type": "code",
   "execution_count": 49,
   "metadata": {},
   "outputs": [
    {
     "name": "stdout",
     "output_type": "stream",
     "text": [
      "['flint', 'twine', 'gemstone']\n"
     ]
    }
   ],
   "source": [
    "print(inventory[\"pouch\"])"
   ]
  },
  {
   "cell_type": "markdown",
   "metadata": {},
   "source": [
    "**2.3c.** Add a new item to the dictionary. Set it's **key** to `clothes` and it's **value** to a list containing these three items: `hat`,`tunic`,`boots`"
   ]
  },
  {
   "cell_type": "code",
   "execution_count": 50,
   "metadata": {},
   "outputs": [],
   "source": [
    "inventory[\"clothes\"] = [\"hat\", \"tunic\", \"boots\"]"
   ]
  },
  {
   "cell_type": "markdown",
   "metadata": {},
   "source": [
    "**2.3d.** Print all the _keys_ in the `inventory` dictionary"
   ]
  },
  {
   "cell_type": "code",
   "execution_count": 51,
   "metadata": {},
   "outputs": [
    {
     "name": "stdout",
     "output_type": "stream",
     "text": [
      "dict_keys(['gold', 'pouch', 'backpack', 'clothes'])\n"
     ]
    }
   ],
   "source": [
    "print(inventory.keys())"
   ]
  },
  {
   "cell_type": "markdown",
   "metadata": {},
   "source": [
    "**2.3e.** Print all the _values_ in the `inventory` dictionary"
   ]
  },
  {
   "cell_type": "code",
   "execution_count": 75,
   "metadata": {},
   "outputs": [
    {
     "name": "stdout",
     "output_type": "stream",
     "text": [
      "dict_values([500, ['flint', 'twine', 'gemstone'], ['xylophone', 'dagger', 'bedroll', 'bread loaf'], ['hat', 'tunic', 'boots']])\n"
     ]
    }
   ],
   "source": [
    "print(inventory.values())"
   ]
  },
  {
   "cell_type": "markdown",
   "metadata": {},
   "source": [
    "**2.3f.** [Challenge!] Extract all the _items_ in the `inventory` dictionary to a new variable named \"`the_items`\". Reveal what type of object this variable is."
   ]
  },
  {
   "cell_type": "code",
   "execution_count": 72,
   "metadata": {},
   "outputs": [
    {
     "data": {
      "text/plain": [
       "dict_items"
      ]
     },
     "execution_count": 72,
     "metadata": {},
     "output_type": "execute_result"
    }
   ],
   "source": [
    "the_items = inventory.items()\n",
    "type(the_items)"
   ]
  },
  {
   "cell_type": "markdown",
   "metadata": {},
   "source": [
    "**2.3g.** [Challenge, part 2] Re-cast the `the_items` object into a _list_ object named \"`the_items_list`\", and print the third item in this list. "
   ]
  },
  {
   "cell_type": "code",
   "execution_count": 73,
   "metadata": {},
   "outputs": [
    {
     "data": {
      "text/plain": [
       "('backpack', ['xylophone', 'dagger', 'bedroll', 'bread loaf'])"
      ]
     },
     "execution_count": 73,
     "metadata": {},
     "output_type": "execute_result"
    }
   ],
   "source": [
    "the_items_list = list(the_items)\n",
    "the_items_list[2]"
   ]
  },
  {
   "cell_type": "markdown",
   "metadata": {},
   "source": [
    "---\n",
    "### 2.4. Sets"
   ]
  },
  {
   "cell_type": "markdown",
   "metadata": {},
   "source": [
    "**2.4a.** Create a set variable named `redFruit` with members `strawberry`, `apple`, `plum`, and `raspberry`. Then, print the set. "
   ]
  },
  {
   "cell_type": "code",
   "execution_count": 63,
   "metadata": {},
   "outputs": [
    {
     "name": "stdout",
     "output_type": "stream",
     "text": [
      "{'plum', 'apple', 'raspberry', 'strawberry'}\n"
     ]
    }
   ],
   "source": [
    "redFruit = {\"strawberry\", \"apple\", \"plum\", \"raspberry\"}\n",
    "print(redFruit)"
   ]
  },
  {
   "cell_type": "markdown",
   "metadata": {},
   "source": [
    "**2.4b.** Add `tomato` to the `redFruit` list, and print the set's contents."
   ]
  },
  {
   "cell_type": "code",
   "execution_count": 64,
   "metadata": {},
   "outputs": [
    {
     "name": "stdout",
     "output_type": "stream",
     "text": [
      "{'raspberry', 'tomato', 'apple', 'strawberry', 'plum'}\n"
     ]
    }
   ],
   "source": [
    "redFruit.add(\"tomato\")\n",
    "print(redFruit)"
   ]
  },
  {
   "cell_type": "markdown",
   "metadata": {},
   "source": [
    "**2.4c.** Add another instance of `tomato` to the set and print its contents."
   ]
  },
  {
   "cell_type": "code",
   "execution_count": 65,
   "metadata": {},
   "outputs": [
    {
     "name": "stdout",
     "output_type": "stream",
     "text": [
      "{'raspberry', 'tomato', 'apple', 'strawberry', 'plum'}\n"
     ]
    }
   ],
   "source": [
    "redFruit.add(\"tomato\")\n",
    "print(redFruit)"
   ]
  },
  {
   "cell_type": "markdown",
   "metadata": {},
   "source": [
    "**2.4d.** Create a set called `pittedFruit` with members `peach`, `plum`, `nectarine`, and `avocado`."
   ]
  },
  {
   "cell_type": "code",
   "execution_count": 67,
   "metadata": {},
   "outputs": [
    {
     "name": "stdout",
     "output_type": "stream",
     "text": [
      "{'avocado', 'nectarine', 'peach', 'plum'}\n"
     ]
    }
   ],
   "source": [
    "pittedFruit = {\"peach\", \"plum\", \"nectarine\", \"avocado\"}\n",
    "print(pittedFruit)"
   ]
  },
  {
   "cell_type": "markdown",
   "metadata": {},
   "source": [
    "**2.4e.** Print the *intersection* of the `redFruit` and `pittedFruit` sets."
   ]
  },
  {
   "cell_type": "code",
   "execution_count": 70,
   "metadata": {},
   "outputs": [
    {
     "name": "stdout",
     "output_type": "stream",
     "text": [
      "{'plum'}\n"
     ]
    },
    {
     "data": {
      "text/plain": [
       "{'plum'}"
      ]
     },
     "execution_count": 70,
     "metadata": {},
     "output_type": "execute_result"
    }
   ],
   "source": [
    "print(redFruit.intersection(pittedFruit))\n",
    "#or\n",
    "redFruit & pittedFruit"
   ]
  },
  {
   "cell_type": "markdown",
   "metadata": {},
   "source": [
    "**2.4f.** Print the *symmetic difference* of the two sets"
   ]
  },
  {
   "cell_type": "code",
   "execution_count": 76,
   "metadata": {},
   "outputs": [
    {
     "name": "stdout",
     "output_type": "stream",
     "text": [
      "{'raspberry', 'tomato', 'apple', 'peach', 'strawberry', 'avocado', 'nectarine'}\n"
     ]
    },
    {
     "data": {
      "text/plain": [
       "{'apple', 'avocado', 'nectarine', 'peach', 'raspberry', 'strawberry', 'tomato'}"
      ]
     },
     "execution_count": 76,
     "metadata": {},
     "output_type": "execute_result"
    }
   ],
   "source": [
    "print(redFruit.symmetric_difference(pittedFruit))\n",
    "#or\n",
    "redFruit ^ pittedFruit"
   ]
  },
  {
   "cell_type": "markdown",
   "metadata": {},
   "source": [
    "---\n",
    "### 2.5 More on Strings"
   ]
  },
  {
   "cell_type": "markdown",
   "metadata": {},
   "source": [
    "**2.5a.** Use combinations of `'` and `\"` along with Python escaping character (\"`\\`\") to print the following:<br>\n",
    " `This is a Python string`<br>\n",
    " `This is John's Python string`<br>\n",
    " `This is a string that says \"Hey!\"`<br>\n",
    " `This is John's Python string that says \"Hey!\"`<br>"
   ]
  },
  {
   "cell_type": "code",
   "execution_count": 79,
   "metadata": {},
   "outputs": [
    {
     "name": "stdout",
     "output_type": "stream",
     "text": [
      "This is a Python string\n",
      "This is John's Python string\n",
      "This is a string that says \"Hey!\"\n",
      "This is John's Python string that says \"Hey!\"\n"
     ]
    }
   ],
   "source": [
    "print(\"This is a Python string\")\n",
    "print(\"This is John's Python string\")\n",
    "print('This is a string that says \"Hey!\"')\n",
    "print('This is John\\'s Python string that says \"Hey!\"')"
   ]
  },
  {
   "cell_type": "markdown",
   "metadata": {},
   "source": [
    "**2.5b.** Insert the Python escaping character (\"`\\`\") followed by `n`, `t`, or `r` in the string below. What do these do when the string is printed?"
   ]
  },
  {
   "cell_type": "code",
   "execution_count": 86,
   "metadata": {},
   "outputs": [
    {
     "name": "stdout",
     "output_type": "stream",
     "text": [
      "Show me what Python's \n",
      "escaping character does.\n",
      "Show me what Python's \tescaping character does.\n",
      " escaping character does.\n"
     ]
    }
   ],
   "source": [
    "print(\"Show me what Python's \\nescaping character does.\")\n",
    "\n",
    "print(\"Show me what Python's \\tescaping character does.\")\n",
    "\n",
    "print(\"Show me what Python's \\r escaping character does.\")"
   ]
  },
  {
   "cell_type": "markdown",
   "metadata": {},
   "source": [
    "**2.5c.** Use string formatting to insert the variables `city` and `population` into a statement that prints:<br>\n",
    "```\n",
    "The city of Durham has a population of 275000 people.\n",
    "```"
   ]
  },
  {
   "cell_type": "code",
   "execution_count": 93,
   "metadata": {},
   "outputs": [
    {
     "name": "stdout",
     "output_type": "stream",
     "text": [
      "The city of Durham has a population of 275000 people\n",
      "The city of Durham has a population of 275000 people\n"
     ]
    }
   ],
   "source": [
    "city = 'Durham'\n",
    "population = 275000\n",
    "print(f'The city of {city} has a population of {population} people')\n",
    "#or\n",
    "print(\"The city of \" + city + \" has a population of \" + str(population) + \" people\")"
   ]
  },
  {
   "cell_type": "markdown",
   "metadata": {},
   "source": [
    "**2.5d** Repeat the task above, but extract values of the list to report Raleigh's population. Bonus points if you can fix the capitalization so the city name is not in all capitals..."
   ]
  },
  {
   "cell_type": "code",
   "execution_count": 105,
   "metadata": {},
   "outputs": [
    {
     "name": "stdout",
     "output_type": "stream",
     "text": [
      "The city of Raleigh has a population of 470000 people\n"
     ]
    }
   ],
   "source": [
    "cities = ('DURHAM','RALEIGH','CHAPEL HILL')\n",
    "populations = (275000, 470000, 61000)\n",
    "print(f'The city of {cities[1].capitalize()} has a population of {populations[1]} people')\n"
   ]
  }
 ],
 "metadata": {
  "kernelspec": {
   "display_name": "Python 3",
   "language": "python",
   "name": "python3"
  },
  "language_info": {
   "codemirror_mode": {
    "name": "ipython",
    "version": 3
   },
   "file_extension": ".py",
   "mimetype": "text/x-python",
   "name": "python",
   "nbconvert_exporter": "python",
   "pygments_lexer": "ipython3",
   "version": "3.8.8"
  }
 },
 "nbformat": 4,
 "nbformat_minor": 4
}
